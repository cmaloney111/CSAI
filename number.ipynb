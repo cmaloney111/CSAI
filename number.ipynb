{
  "nbformat": 4,
  "nbformat_minor": 0,
  "metadata": {
    "colab": {
      "provenance": [],
      "authorship_tag": "ABX9TyPJp46vRqfMe5t3gsjnxSPB",
      "include_colab_link": true
    },
    "kernelspec": {
      "name": "python3",
      "display_name": "Python 3"
    },
    "language_info": {
      "name": "python"
    }
  },
  "cells": [
    {
      "cell_type": "markdown",
      "metadata": {
        "id": "view-in-github",
        "colab_type": "text"
      },
      "source": [
        "<a href=\"https://colab.research.google.com/github/cmaloney111/CSAI/blob/Main/number.ipynb\" target=\"_parent\"><img src=\"https://colab.research.google.com/assets/colab-badge.svg\" alt=\"Open In Colab\"/></a>"
      ]
    },
    {
      "cell_type": "code",
      "execution_count": null,
      "metadata": {
        "id": "T0S_ej4je85F"
      },
      "outputs": [],
      "source": [
        "import tensorflow as tf\n",
        "import numpy as np\n",
        "import pandas as pd\n",
        "import matplotlib.pyplot as plt"
      ]
    },
    {
      "cell_type": "code",
      "source": [
        "(x_train, y_train), (x_test, y_test) = tf.keras.datasets.mnist.load_data()"
      ],
      "metadata": {
        "id": "-MixaPEffMsD"
      },
      "execution_count": null,
      "outputs": []
    },
    {
      "cell_type": "code",
      "source": [
        "plt.imshow(x_train[0]), y_train[0]"
      ],
      "metadata": {
        "colab": {
          "base_uri": "https://localhost:8080/",
          "height": 283
        },
        "id": "zV6XJCBpfo9v",
        "outputId": "22900eac-2432-4e42-9cec-429081191eed"
      },
      "execution_count": null,
      "outputs": [
        {
          "output_type": "execute_result",
          "data": {
            "text/plain": [
              "(<matplotlib.image.AxesImage at 0x7f87d1fb1fd0>, 5)"
            ]
          },
          "metadata": {},
          "execution_count": 3
        },
        {
          "output_type": "display_data",
          "data": {
            "text/plain": [
              "<Figure size 432x288 with 1 Axes>"
            ],
            "image/png": "[encoded data removed]"
          },
          "metadata": {
            "needs_background": "light"
          }
        }
      ]
    },
    {
      "cell_type": "code",
      "source": [
        "# Preprocessing\n",
        "images = x_train / 255.0\n",
        "labels = pd.get_dummies(y_train)"
      ],
      "metadata": {
        "id": "zIH05HzCgWs3"
      },
      "execution_count": null,
      "outputs": []
    },
    {
      "cell_type": "code",
      "source": [
        "i = 1\n",
        "y_train[i], np.array(labels[i])"
      ],
      "metadata": {
        "colab": {
          "base_uri": "https://localhost:8080/"
        },
        "id": "ggNOoIdKhTR8",
        "outputId": "5a10cdb3-2e4c-45f1-d43b-8fb347a49336"
      },
      "execution_count": null,
      "outputs": [
        {
          "output_type": "execute_result",
          "data": {
            "text/plain": [
              "(0, array([0, 0, 0, ..., 0, 0, 0], dtype=uint8))"
            ]
          },
          "metadata": {},
          "execution_count": 5
        }
      ]
    },
    {
      "cell_type": "code",
      "source": [
        "y_train.shape"
      ],
      "metadata": {
        "colab": {
          "base_uri": "https://localhost:8080/"
        },
        "id": "jo38qbXzhyIF",
        "outputId": "d0f332cb-d761-4e50-bb93-0e99e6a7af60"
      },
      "execution_count": null,
      "outputs": [
        {
          "output_type": "execute_result",
          "data": {
            "text/plain": [
              "(60000,)"
            ]
          },
          "metadata": {},
          "execution_count": 6
        }
      ]
    },
    {
      "cell_type": "code",
      "source": [
        "from tensorflow.keras import layers, Sequential"
      ],
      "metadata": {
        "id": "nX-HhBWBiUc4"
      },
      "execution_count": null,
      "outputs": []
    },
    {
      "cell_type": "code",
      "source": [
        "input_dim = 28*28\n",
        "model = Sequential([\n",
        "    layers.Flatten(),\n",
        "    layers.Dense(512, activation = \"relu\"),\n",
        "    layers.Dense(256, activation = \"relu\"),\n",
        "    layers.Dense(128, activation = \"relu\"),\n",
        "    layers.Dense(64, activation = \"relu\"),\n",
        "    layers.Dense(10, activation = \"softmax\")\n",
        "])"
      ],
      "metadata": {
        "id": "p4N4YMHqiY5j"
      },
      "execution_count": null,
      "outputs": []
    },
    {
      "cell_type": "code",
      "source": [
        "model.compile(optimizer = \"adam\", loss=tf.losses.CategoricalCrossentropy(), metrics = [\"accuracy\"])"
      ],
      "metadata": {
        "id": "xdAgU-gBkXnv"
      },
      "execution_count": null,
      "outputs": []
    },
    {
      "cell_type": "code",
      "source": [
        "history = model.fit(images, labels, batch_size=256, epochs=15, validation_split=0.3)"
      ],
      "metadata": {
        "colab": {
          "base_uri": "https://localhost:8080/"
        },
        "id": "x9H-L-8Ckf4x",
        "outputId": "0c99dfb4-bdab-43f2-d732-9acb0a59dd81"
      },
      "execution_count": null,
      "outputs": [
        {
          "output_type": "stream",
          "name": "stdout",
          "text": [
            "Epoch 1/15\n",
            "165/165 [==============================] - 4s 24ms/step - loss: 6.9569e-05 - accuracy: 1.0000 - val_loss: 0.1318 - val_accuracy: 0.9803\n",
            "Epoch 2/15\n",
            "165/165 [==============================] - 4s 22ms/step - loss: 2.2996e-05 - accuracy: 1.0000 - val_loss: 0.1341 - val_accuracy: 0.9801\n",
            "Epoch 3/15\n",
            "165/165 [==============================] - 4s 23ms/step - loss: 1.7107e-05 - accuracy: 1.0000 - val_loss: 0.1363 - val_accuracy: 0.9804\n",
            "Epoch 4/15\n",
            "165/165 [==============================] - 4s 22ms/step - loss: 1.2835e-05 - accuracy: 1.0000 - val_loss: 0.1393 - val_accuracy: 0.9804\n",
            "Epoch 5/15\n",
            "165/165 [==============================] - 4s 23ms/step - loss: 9.4396e-06 - accuracy: 1.0000 - val_loss: 0.1427 - val_accuracy: 0.9804\n",
            "Epoch 6/15\n",
            "165/165 [==============================] - 4s 23ms/step - loss: 7.0829e-06 - accuracy: 1.0000 - val_loss: 0.1461 - val_accuracy: 0.9804\n",
            "Epoch 7/15\n",
            "165/165 [==============================] - 4s 23ms/step - loss: 5.4008e-06 - accuracy: 1.0000 - val_loss: 0.1490 - val_accuracy: 0.9803\n",
            "Epoch 8/15\n",
            "165/165 [==============================] - 4s 23ms/step - loss: 4.2042e-06 - accuracy: 1.0000 - val_loss: 0.1525 - val_accuracy: 0.9803\n",
            "Epoch 9/15\n",
            "165/165 [==============================] - 4s 23ms/step - loss: 3.3297e-06 - accuracy: 1.0000 - val_loss: 0.1556 - val_accuracy: 0.9803\n",
            "Epoch 10/15\n",
            "165/165 [==============================] - 4s 23ms/step - loss: 2.6426e-06 - accuracy: 1.0000 - val_loss: 0.1586 - val_accuracy: 0.9803\n",
            "Epoch 11/15\n",
            "165/165 [==============================] - 4s 23ms/step - loss: 2.1180e-06 - accuracy: 1.0000 - val_loss: 0.1619 - val_accuracy: 0.9802\n",
            "Epoch 12/15\n",
            "165/165 [==============================] - 6s 39ms/step - loss: 1.6768e-06 - accuracy: 1.0000 - val_loss: 0.1658 - val_accuracy: 0.9803\n",
            "Epoch 13/15\n",
            "165/165 [==============================] - 5s 33ms/step - loss: 1.3796e-06 - accuracy: 1.0000 - val_loss: 0.1678 - val_accuracy: 0.9802\n",
            "Epoch 14/15\n",
            "165/165 [==============================] - 4s 23ms/step - loss: 1.1409e-06 - accuracy: 1.0000 - val_loss: 0.1703 - val_accuracy: 0.9802\n",
            "Epoch 15/15\n",
            "165/165 [==============================] - 4s 23ms/step - loss: 9.7218e-07 - accuracy: 1.0000 - val_loss: 0.1729 - val_accuracy: 0.9801\n"
          ]
        }
      ]
    },
    {
      "cell_type": "code",
      "source": [
        "pd.DataFrame(history.history).plot()"
      ],
      "metadata": {
        "colab": {
          "base_uri": "https://localhost:8080/",
          "height": 283
        },
        "id": "AoDRBGzQmG_E",
        "outputId": "d55b5a9b-eb60-4c08-b9bd-8619f7898b97"
      },
      "execution_count": null,
      "outputs": [
        {
          "output_type": "execute_result",
          "data": {
            "text/plain": [
              "<matplotlib.axes._subplots.AxesSubplot at 0x7f87c775bf50>"
            ]
          },
          "metadata": {},
          "execution_count": 17
        },
        {
          "output_type": "display_data",
          "data": {
            "text/plain": [
              "<Figure size 432x288 with 1 Axes>"
            ],
            "image/png": "[encoded data removed]"
          },
          "metadata": {
            "needs_background": "light"
          }
        }
      ]
    },
    {
      "cell_type": "code",
      "source": [
        "test_images = x_test / 255.0\n",
        "test_labels = pd.get_dummies(y_test)"
      ],
      "metadata": {
        "id": "HbQfSlNCmT3k"
      },
      "execution_count": null,
      "outputs": []
    },
    {
      "cell_type": "code",
      "source": [
        "predictions = model.predict(test_images)\n",
        "predictions = np.argmax(predictions, axis = 1)"
      ],
      "metadata": {
        "colab": {
          "base_uri": "https://localhost:8080/"
        },
        "id": "ipAfr-JCmhvg",
        "outputId": "ba9e1ef8-6555-4e95-9739-fb8044ae42db"
      },
      "execution_count": null,
      "outputs": [
        {
          "output_type": "stream",
          "name": "stdout",
          "text": [
            "313/313 [==============================] - 1s 4ms/step\n"
          ]
        }
      ]
    },
    {
      "cell_type": "code",
      "source": [
        "np.mean(np.equal(predictions, y_test))"
      ],
      "metadata": {
        "colab": {
          "base_uri": "https://localhost:8080/"
        },
        "id": "mzLGpxZkm3Wh",
        "outputId": "239ceafc-15ea-4258-e37c-2cae45762d0f"
      },
      "execution_count": null,
      "outputs": [
        {
          "output_type": "execute_result",
          "data": {
            "text/plain": [
              "0.9822"
            ]
          },
          "metadata": {},
          "execution_count": 25
        }
      ]
    },
    {
      "cell_type": "code",
      "source": [
        "from sklearn.metrics import confusion_matrix\n",
        "import seaborn as sns"
      ],
      "metadata": {
        "id": "7ZvUNuWvoGjc"
      },
      "execution_count": null,
      "outputs": []
    },
    {
      "cell_type": "code",
      "source": [
        "net = confusion_matrix(y_test, predictions)"
      ],
      "metadata": {
        "id": "WhqEltOton_D"
      },
      "execution_count": null,
      "outputs": []
    },
    {
      "cell_type": "code",
      "source": [
        "sns.heatmap(net, annot=True)"
      ],
      "metadata": {
        "colab": {
          "base_uri": "https://localhost:8080/",
          "height": 283
        },
        "id": "jlSzp75DoiwR",
        "outputId": "12c40ed9-c62d-4da1-aa1a-391874cf252e"
      },
      "execution_count": null,
      "outputs": [
        {
          "output_type": "execute_result",
          "data": {
            "text/plain": [
              "<matplotlib.axes._subplots.AxesSubplot at 0x7f87c4130850>"
            ]
          },
          "metadata": {},
          "execution_count": 29
        },
        {
          "output_type": "display_data",
          "data": {
            "text/plain": [
              "<Figure size 432x288 with 2 Axes>"
            ],
            "image/png": "[encoded data removed]"
          },
          "metadata": {
            "needs_background": "light"
          }
        }
      ]
    },
    {
      "cell_type": "code",
      "source": [],
      "metadata": {
        "id": "KzAODvi-pMqi"
      },
      "execution_count": null,
      "outputs": []
    }
  ]
}